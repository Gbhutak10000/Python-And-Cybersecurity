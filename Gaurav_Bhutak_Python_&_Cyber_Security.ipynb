{
  "nbformat": 4,
  "nbformat_minor": 0,
  "metadata": {
    "colab": {
      "name": "Gaurav Bhutak Python & Cyber Security.ipynb",
      "provenance": []
    },
    "kernelspec": {
      "name": "python3",
      "display_name": "Python 3"
    },
    "language_info": {
      "name": "python"
    }
  },
  "cells": [
    {
      "cell_type": "code",
      "metadata": {
        "id": "xcB12BzuFi0R"
      },
      "source": [
        "import requests\n",
        "import csv\n",
        "from datetime import datetime"
      ],
      "execution_count": 156,
      "outputs": []
    },
    {
      "cell_type": "code",
      "metadata": {
        "id": "Fp4IXcdbFpQZ",
        "colab": {
          "base_uri": "https://localhost:8080/"
        },
        "outputId": "6d4eb7d9-5fc7-4ec4-bcf9-c251ce2aacfe"
      },
      "source": [
        "api_key = '8439369c3a961c6a51f211b659f00e32'\n",
        "location = input(\"Enter the city name: \")"
      ],
      "execution_count": 157,
      "outputs": [
        {
          "output_type": "stream",
          "text": [
            "Enter the city name: borivali\n"
          ],
          "name": "stdout"
        }
      ]
    },
    {
      "cell_type": "code",
      "metadata": {
        "id": "AMl85ZQNFrtZ"
      },
      "source": [
        "complete_api_link = \"https://api.openweathermap.org/data/2.5/weather?q=\"+location+\"&appid=\"+api_key\n",
        "api_link = requests.get(complete_api_link)\n",
        "api_data = api_link.json()"
      ],
      "execution_count": 158,
      "outputs": []
    },
    {
      "cell_type": "code",
      "metadata": {
        "id": "mnZ2Qtx9PwBe"
      },
      "source": [
        "date_time = datetime.now().strftime(\"Date                  :- %d %b %Y \\n Time                  :- %I:%M:%S %p\")\n",
        "w_data=[[\"Name Of The City :-\"],[location.upper(), date_time]]\n"
      ],
      "execution_count": 159,
      "outputs": []
    },
    {
      "cell_type": "code",
      "metadata": {
        "id": "wtz3zz3nFvV4",
        "colab": {
          "base_uri": "https://localhost:8080/"
        },
        "outputId": "def1a22f-9a80-4a96-b52d-3d605adf1cda"
      },
      "source": [
        "\n",
        "print (\"-------------------------------------------------------------\")\n",
        "print (\"Weather Stats for :-\\n City Name             :- {}  \\n {}\".format(location.upper(), date_time))\n",
        "print (\"-------------------------------------------------------------\")"
      ],
      "execution_count": 160,
      "outputs": [
        {
          "output_type": "stream",
          "text": [
            "-------------------------------------------------------------\n",
            "Weather Stats for :-\n",
            " City Name             :- BORIVALI  \n",
            " Date                  :- 23 Jun 2021 \n",
            " Time                  :- 06:19:56 AM\n",
            "-------------------------------------------------------------\n"
          ],
          "name": "stdout"
        }
      ]
    },
    {
      "cell_type": "code",
      "metadata": {
        "id": "KzH8kObvPyq9"
      },
      "source": [
        "temp_city = ((api_data['main']['temp']) - 273.15)\n",
        "weather_desc = api_data['weather'][0]['description']\n",
        "hmdt = api_data['main']['humidity']\n",
        "wind_spd = api_data['wind']['speed']\n",
        "w_data=[\"Weather Stats for :-\\n Name Of The City      :- {}  \\n {} \\n Current temperature is:- {:.2f} deg C \\n Current weather desc  :- {} \\n Current Humidity      :- {} \\n Current wind speed    :- {} kmph \\n \".format(location.upper(), date_time,temp_city,weather_desc,hmdt,wind_spd)]\n",
        "with open('weather.txt','w') as e:\n",
        "    writer=csv.writer(e)\n",
        "    writer.writerow(w_data)\n",
        "e.close()"
      ],
      "execution_count": 161,
      "outputs": []
    },
    {
      "cell_type": "code",
      "metadata": {
        "id": "J3t-hsNhFxvo",
        "colab": {
          "base_uri": "https://localhost:8080/"
        },
        "outputId": "33b36cdf-8886-4f25-8d04-e9f011845f0b"
      },
      "source": [
        "print (\"Current temperature is: {:.2f} deg C\".format(temp_city))\n",
        "print (\"Current weather desc  :\",weather_desc)\n",
        "print (\"Current Humidity      :\",hmdt, '%')\n",
        "print (\"Current wind speed    :\",wind_spd ,'kmph')"
      ],
      "execution_count": 162,
      "outputs": [
        {
          "output_type": "stream",
          "text": [
            "Current temperature is: 30.90 deg C\n",
            "Current weather desc  : smoke\n",
            "Current Humidity      : 70 %\n",
            "Current wind speed    : 4.12 kmph\n"
          ],
          "name": "stdout"
        }
      ]
    },
    {
      "cell_type": "code",
      "metadata": {
        "colab": {
          "base_uri": "https://localhost:8080/"
        },
        "id": "Rk4ekCreMW6n",
        "outputId": "153443d1-1480-4875-f0fe-db7fc0fb14af"
      },
      "source": [
        "with open('weather.txt','r') as f:\n",
        "    reader=csv.reader(f)\n",
        "    for row in reader:\n",
        "        print(row)\n",
        "f.close()"
      ],
      "execution_count": 163,
      "outputs": [
        {
          "output_type": "stream",
          "text": [
            "['Weather Stats for :-\\n Name Of The City      :- BORIVALI  \\n Date                  :- 23 Jun 2021 \\n Time                  :- 06:19:56 AM \\n Current temperature is:- 30.90 deg C \\n Current weather desc  :- smoke \\n Current Humidity      :- 70 \\n Current wind speed    :- 4.12 kmph \\n ']\n"
          ],
          "name": "stdout"
        }
      ]
    }
  ]
}